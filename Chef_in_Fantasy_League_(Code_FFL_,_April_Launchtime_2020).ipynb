{
  "nbformat": 4,
  "nbformat_minor": 0,
  "metadata": {
    "kernelspec": {
      "display_name": "Python 3",
      "language": "python",
      "name": "python3"
    },
    "language_info": {
      "codemirror_mode": {
        "name": "ipython",
        "version": 3
      },
      "file_extension": ".py",
      "mimetype": "text/x-python",
      "name": "python",
      "nbconvert_exporter": "python",
      "pygments_lexer": "ipython3",
      "version": "3.7.0"
    },
    "colab": {
      "name": "Chef in Fantasy League (Code - FFL , April Launchtime 2020).ipynb",
      "provenance": [],
      "collapsed_sections": []
    }
  },
  "cells": [
    {
      "cell_type": "markdown",
      "metadata": {
        "id": "QuAfPd-S0zSB",
        "colab_type": "text"
      },
      "source": [
        "### **Chef in Fantasy League** \n",
        "\n",
        "Problem Code: FFL\n",
        "\n",
        "Chef is going to start playing Fantasy Football League (FFL) this season. In FFL, each team consists of exactly 15 players: 2 goalkeepers, 5 defenders, 5 midfielders and 3 forwards. Chef has already bought 13 players; he is only missing one defender and one forward.\n",
        "\n",
        "There are N available players (numbered 1 through N). For each valid i, the i-th player is either a defender or a forward and has a price Pi. The sum of prices of all players in a team must not exceed 100 dollars and the players Chef bought already cost him S dollars.\n",
        "\n",
        "Can you help Chef determine if he can complete the team by buying one defender and one forward in such a way that he does not exceed the total price limit?\n",
        "\n",
        "\n",
        "\n",
        "> Input\n",
        "\n",
        "The first line of the input contains a single integer T denoting the number of test cases. The description of T test cases follows.\n",
        "The first line of each test case contains two space-separated integers N and S.\n",
        "The second line contains N space-separated integers P1,P2,…,PN.\n",
        "The last line contains N space-separated integers. For each valid i, the i-th of these integers is 0 if the i-th player is a defender or 1 if the i-th player is a forward.\n",
        "\n",
        "\n",
        "> Output\n",
        "\n",
        "\n",
        "For each test case, print a single line containing the string \"yes\" if it is possible to build a complete team or \"no\" otherwise (without quotes).\n",
        "\n",
        "\n",
        "\n",
        "\n",
        "> Constraints\n",
        "\n",
        "\n",
        "1≤T≤100\n",
        "\n",
        "1≤N≤100\n",
        "\n",
        "13≤S≤100\n",
        "\n",
        "1≤Pi≤100 for each valid i\n",
        "\n",
        "\n",
        "\n",
        "```\n",
        "Example Input\n",
        "2\n",
        "4 90\n",
        "3 8 6 5\n",
        "0 1 1 0\n",
        "4 90\n",
        "5 7 6 5\n",
        "0 1 1 0\n",
        "\n",
        "\n",
        "Example Output\n",
        "yes\n",
        "no\n",
        "```\n",
        "\n",
        "\n",
        "\n",
        "\n",
        "**Explanation**\n",
        "\n",
        "Example case 1: If Chef buys the 1-st and 3-rd player, the total price of his team is 90+9=99, which is perfectly fine. There is no other valid way to pick two players.\n",
        "\n",
        "Example case 2: Chef cannot buy two players in such a way that all conditions are satisfied.\n",
        "\n",
        "\n",
        "\n",
        "> Problem Translated in Bengali :\n",
        "\n",
        "\n",
        "![Bengali 1](https://i.postimg.cc/9FQWCWTK/FFL-page-001.jpg)![alt text](https://i.postimg.cc/2SPmQhJN/FFL-page-002.jpg)\n",
        "\n"
      ]
    },
    {
      "cell_type": "code",
      "metadata": {
        "id": "fQCC7NPeslCL",
        "colab_type": "code",
        "colab": {
          "base_uri": "https://localhost:8080/",
          "height": 168
        },
        "outputId": "12b60e43-cd15-4633-a516-af9ad4433a89"
      },
      "source": [
        "def temp():\n",
        "    a=101\n",
        "    b=101\n",
        "    n,s=map(int,input().split())\n",
        "    p=list(map(int,input().split()))\n",
        "    N=list(map(int,input().split()))\n",
        "    for i in range(n):\n",
        "        if N[i]==0:\n",
        "            a=min(a,p[i])\n",
        "        else:\n",
        "            b=min(b,p[i])\n",
        "\n",
        "    if (s+a+b)<=100:\n",
        "        return 'yes'\n",
        "    else:\n",
        "        return 'no'\n",
        "\n",
        "#@Author : Sudip Mitra     \n",
        "t=int(input())           \n",
        "for _ in range(t):\n",
        "    print(temp())"
      ],
      "execution_count": 9,
      "outputs": [
        {
          "output_type": "stream",
          "text": [
            "2\n",
            "4 90\n",
            "3 8 6 5\n",
            "0 1 1 0\n",
            "yes\n",
            "4 90\n",
            "7 9 6 5\n",
            "0 1 1 0\n",
            "no\n"
          ],
          "name": "stdout"
        }
      ]
    },
    {
      "cell_type": "code",
      "metadata": {
        "id": "uYrvSdc5f1FX",
        "colab_type": "code",
        "colab": {
          "base_uri": "https://localhost:8080/",
          "height": 168
        },
        "outputId": "1e308176-87f2-4d0c-c91f-592b375e52ed"
      },
      "source": [
        "#@Author :Sudip Mitra\n",
        "for _ in range(int(input())):\n",
        "    n,s=map(int,input().split())\n",
        "    a=list(map(int,input().split()))\n",
        "    b=list(map(int,input().split()))\n",
        "    c=[]\n",
        "    d=[]\n",
        "    res=[]\n",
        "    for i in range(len(b)):\n",
        "        if b[i]==1:\n",
        "            c.append(i)\n",
        "\n",
        "        if b[i]==0:\n",
        "            d.append(i)\n",
        "\n",
        "    min1,min2=100,100\n",
        "    for i in range(n):\n",
        "        if i in c:\n",
        "            if min1>=a[i]:\n",
        "                min1=a[i]\n",
        "        if i in d:\n",
        "            if min2>=a[i]:\n",
        "                min2=a[i]\n",
        "    if min1+min2+s<=100:\n",
        "        print('yes')\n",
        "    else:\n",
        "        print('no')"
      ],
      "execution_count": 4,
      "outputs": [
        {
          "output_type": "stream",
          "text": [
            "2\n",
            "4 90\n",
            "5 7 6 5\n",
            "0 1 1 0\n",
            "no\n",
            "4 90\n",
            "3 8 6 5\n",
            "0 1 1 0\n",
            "yes\n"
          ],
          "name": "stdout"
        }
      ]
    },
    {
      "cell_type": "code",
      "metadata": {
        "id": "DenoqLupwibJ",
        "colab_type": "code",
        "colab": {
          "base_uri": "https://localhost:8080/",
          "height": 168
        },
        "outputId": "beca4e3a-7e9b-44eb-ec34-4dc0363bd3e0"
      },
      "source": [
        "T = int(input())\n",
        "for i in range(T):\n",
        "  N, S = map(int, input().split())\n",
        "  fl = list(map(int, input().split()))\n",
        "  ll = list(map(int, input().split()))\n",
        "  avail_def = []\n",
        "  avail_for = []\n",
        "  add_def_for = []\n",
        "  for i in range(N):\n",
        "    if ll[i] == 0:\n",
        "      avail_def.append(fl[i])\n",
        "    else:\n",
        "      avail_for.append(fl[i])\n",
        "      \n",
        "  #@Author : Sudip Mitra\n",
        "\n",
        "  for i in range(len(avail_def)):\n",
        "    for j in range(len(avail_def)):\n",
        "      add_def_for.append(int(avail_def[i]) + int(avail_for[j]))\n",
        "            \n",
        "  left_player = (100 - S)\n",
        "  for i in range(N):\n",
        "    if add_def_for[i] < left_player :\n",
        "      final = True\n",
        "      break\n",
        "    else :\n",
        "      final = False\n",
        "      \n",
        "  if bool(final) == True :\n",
        "        print(\"yes\")\n",
        "  else :\n",
        "        print(\"no\")\n",
        "    "
      ],
      "execution_count": 12,
      "outputs": [
        {
          "output_type": "stream",
          "text": [
            "2\n",
            "4 90\n",
            "3 8 6 5\n",
            "0 1 1 0\n",
            "yes\n",
            "4 90\n",
            "5 7 6 5\n",
            "0 1 1 0\n",
            "no\n"
          ],
          "name": "stdout"
        }
      ]
    }
  ]
}