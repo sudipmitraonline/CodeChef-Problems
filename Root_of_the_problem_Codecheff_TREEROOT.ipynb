{
  "nbformat": 4,
  "nbformat_minor": 0,
  "metadata": {
    "colab": {
      "name": "Root of the problem Codecheff.ipynb",
      "provenance": [],
      "collapsed_sections": [],
      "include_colab_link": true
    },
    "kernelspec": {
      "name": "python3",
      "display_name": "Python 3"
    }
  },
  "cells": [
    {
      "cell_type": "markdown",
      "metadata": {
        "id": "view-in-github",
        "colab_type": "text"
      },
      "source": [
        "<a href=\"https://colab.research.google.com/github/sudipmitraonline/CodeChef-Problems/blob/master/Root_of_the_problem_Codecheff_TREEROOT.ipynb\" target=\"_parent\"><img src=\"https://colab.research.google.com/assets/colab-badge.svg\" alt=\"Open In Colab\"/></a>"
      ]
    },
    {
      "cell_type": "markdown",
      "metadata": {
        "id": "ZjpFY2tQOtDE",
        "colab_type": "text"
      },
      "source": [
        "### **Root of the Problem** \n",
        "\n",
        "Problem Code: **TREEROOT**\n",
        "\n",
        " \n",
        "Chef has a binary tree. The binary tree consists of 1 or more nodes. Each node has a unique integer id. Each node has up to 2 children, which are identified by their ids, and each node is the child of at most 1 other node. A node X is considered to be an ancestor of node Y if node Y is a child of node X or if there is some node Z for which X is an ancestor of Z and Y is a child of Z. No node is an ancestor of itself. A special node called the root node is an ancestor of all other nodes.\n",
        "\n",
        "Chef has forgotten which node of his tree is the root, and wants you to help him to figure it out. Unfortunately, Chef's knowledge of the tree is incomplete. He does not remember the ids of the children of each node, but only remembers the sum of the ids of the children of each node.\n",
        "\n",
        "\n",
        "> Input\n",
        "\n",
        "\n",
        "Input begins with an integer T, the number of test cases. Each test case begins with an integer N, the number of nodes in the tree. N lines follow with 2 integers each: the id of a node, and the sum of the ids of its children. The second number will be 0 if the node has no children.\n",
        "\n",
        "\n",
        "\n",
        "> Output\n",
        "\n",
        "\n",
        "For each test case, output on a line a space separated list of all possible values for the id of the root node in increasing order. It is guaranteed that at least one such id exists for each test case.\n",
        "\n",
        "**Constraints**\n",
        "\n",
        "1 ≤ T ≤ 50\n",
        "\n",
        "1 ≤ N ≤ 30\n",
        "\n",
        "All node ids are between 1 and 1000, inclusive\n",
        "\n",
        "\n",
        "```\n",
        "Sample Input\n",
        "2\n",
        "1\n",
        "4 0\n",
        "6\n",
        "1 5\n",
        "2 0\n",
        "3 0\n",
        "4 0\n",
        "5 5\n",
        "6 5\n",
        "\n",
        "Sample Output\n",
        "4\n",
        "6\n",
        "```\n",
        "\n",
        "\n",
        "\n",
        "> Explanation\n",
        "\n",
        "\n",
        "In the first sample test case, there is only one node, which is clearly the root. In the second test case, there are two non-isomorphic trees that satisfy the constraints, as seen in the following picture:\n",
        "```\n",
        "  6           6\n",
        "   \\         / \\\n",
        "    5       1   4\n",
        "   / \\       \\\n",
        "  1   4       5\n",
        " / \\         / \\\n",
        "2   3       2   3\n",
        "```"
      ]
    },
    {
      "cell_type": "code",
      "metadata": {
        "id": "Zw1TMEhnsg-K",
        "colab_type": "code",
        "outputId": "124b0279-2b31-43c3-8725-b06dd7195b00",
        "colab": {
          "base_uri": "https://localhost:8080/",
          "height": 218
        }
      },
      "source": [
        "#@Author : Sudip Mitra\n",
        "for i in range(int(input())):\n",
        "  sum1 = 0\n",
        "  sum2 = 0\n",
        "  for j in range(int(input())):\n",
        "    N = list(map(int, input().split(\" \")))\n",
        "    sum1 += N[0]\n",
        "    sum2 += N[1]\n",
        "  print(sum1 - sum2)"
      ],
      "execution_count": 2,
      "outputs": [
        {
          "output_type": "stream",
          "text": [
            "2\n",
            "1\n",
            "4 0\n",
            "4\n",
            "6\n",
            "1 5\n",
            "2 0\n",
            "3 0\n",
            "4 0\n",
            "5 5\n",
            "6 5\n",
            "6\n"
          ],
          "name": "stdout"
        }
      ]
    },
    {
      "cell_type": "code",
      "metadata": {
        "id": "v55EVXCJL9A_",
        "colab_type": "code",
        "colab": {
          "base_uri": "https://localhost:8080/",
          "height": 168
        },
        "outputId": "3e1ee92a-c986-462b-ab11-901794f38d04"
      },
      "source": [
        "def k(n,X,Y):\n",
        "    if n==1:\n",
        "        return X[0]\n",
        "    a=0\n",
        "    b=0\n",
        "    for k in range(n):\n",
        "        a+=Y[k]\n",
        "        b+=X[k]\n",
        "    return(b-a)\n",
        "    \n",
        "#@Author : Sudip Mitra\n",
        "try:\n",
        "    t=int(input())\n",
        "    for i in range(t):\n",
        "        n=int(input())\n",
        "        X=[]\n",
        "        Y=[]\n",
        "        for j in range(n):\n",
        "            x,y=map(int,input().split())\n",
        "            X.append(x)\n",
        "            Y.append(y)\n",
        "        print(k(n,X,Y))\n",
        "\n",
        "except:\n",
        "    pass"
      ],
      "execution_count": 3,
      "outputs": [
        {
          "output_type": "stream",
          "text": [
            "1\n",
            "6\n",
            "1 5\n",
            "2 0\n",
            "3 0\n",
            "4 0\n",
            "5 5\n",
            "6 5\n",
            "6\n"
          ],
          "name": "stdout"
        }
      ]
    }
  ]
}