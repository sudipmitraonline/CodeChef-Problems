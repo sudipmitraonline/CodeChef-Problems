{
  "nbformat": 4,
  "nbformat_minor": 0,
  "metadata": {
    "colab": {
      "name": "Chef and String Problem.ipynb",
      "provenance": [],
      "collapsed_sections": []
    },
    "kernelspec": {
      "name": "python3",
      "display_name": "Python 3"
    }
  },
  "cells": [
    {
      "cell_type": "markdown",
      "metadata": {
        "id": "yqaif-fdI2_a",
        "colab_type": "text"
      },
      "source": [
        "### **Chef and String Problem  | Code: RECNDSTR**\n",
        "\n",
        " \n",
        "**Chef has a string S consisting of lowercase English characters. Chef defined functions left shift L(X) and right shift R(X) as follows.**\n",
        "\n",
        "L(X) is defined as shifting all characters of string X one step towards left and moving the first character to the end.\n",
        "\n",
        "R(X) is defined as shifting all characters of string X one step towards the right and moving the last character to the beginning.\n",
        "For example, L(\"abcd\") = \"bcda\" and R(\"abcd\") = \"dabc\"\n",
        "\n",
        "Chef wants to find out whether there exists a string V of the same length as S such that both L(V)=S and R(V)=S holds.\n",
        "\n",
        "\n",
        "\n",
        "> Input\n",
        "\n",
        "\n",
        "The first line of the input contains a single integer T denoting the number of test cases. The description of T test cases follows.\n",
        "\n",
        "The first line of each test case contains a string S.\n",
        "\n",
        "\n",
        "\n",
        "> Output\n",
        "\n",
        "\n",
        "For each test case, If there exists a valid string V, print \"YES\", otherwise print \"NO\" (without the quotes).\n",
        "\n",
        "**Constraints**\n",
        "\n",
        "1≤T≤100\n",
        "\n",
        "1≤|S|≤106\n",
        "\n",
        "S contains all lower case English alphabets.\n",
        "\n",
        "It's guaranteed that the total length of the strings in one test file doesn't exceed 106\n",
        "\n",
        "```\n",
        "\n",
        "Sample Input:\n",
        "4\n",
        "a\n",
        "ab\n",
        "abcd\n",
        "aaaaa\n",
        "\n",
        "Sample Output:\n",
        "YES\n",
        "YES\n",
        "NO\n",
        "YES\n",
        "\n",
        "Explanation:\n",
        "In the first test case, Chef can choose V=S\n",
        "In the second test case, Chef can choose V = \"ba\" which satisfies both conditions.\n",
        "There doesn't exist any valid choice for string V in the third test case.\n",
        "\n",
        "```"
      ]
    },
    {
      "cell_type": "code",
      "metadata": {
        "id": "CyFODGsTo7wd",
        "colab_type": "code",
        "colab": {
          "base_uri": "https://localhost:8080/",
          "height": 202
        },
        "outputId": "d4155ac5-ab75-4c4c-d1e2-48cd64e018d7"
      },
      "source": [
        "for _ in range(int(input())):\n",
        "  s=input()\n",
        "  u=s[1:]+s[0]\n",
        "  k=s[-1]+s[:-1]\n",
        "  if k==u:\n",
        "    print('YES')\n",
        "  else:\n",
        "    print('NO')"
      ],
      "execution_count": 2,
      "outputs": [
        {
          "output_type": "stream",
          "text": [
            "5\n",
            "ab\n",
            "YES\n",
            "abcdef\n",
            "NO\n",
            "bbbbbbbbbb\n",
            "YES\n",
            "abc\n",
            "NO\n",
            "ba\n",
            "YES\n"
          ],
          "name": "stdout"
        }
      ]
    },
    {
      "cell_type": "code",
      "metadata": {
        "id": "p7Y1XwC0mFvq",
        "colab_type": "code",
        "outputId": "a28c437d-c8ec-4727-d3b0-06ecb90a20e3",
        "colab": {
          "base_uri": "https://localhost:8080/",
          "height": 134
        }
      },
      "source": [
        "def rotate(input,d): \n",
        "  Lfirst = input[0 : d] \n",
        "  Lsecond = input[d :] \n",
        "  Rfirst = input[0 : len(input)-d] \n",
        "  Rsecond = input[len(input)-d : ] \n",
        "  \n",
        "  left = Lsecond + Lfirst\n",
        "  right = Rsecond + Rfirst\n",
        "  \n",
        "  if left == right :\n",
        "    return \"YES\"\n",
        "  else :\n",
        "    return \"NO\"\n",
        "  \n",
        "T = input()\n",
        "for i in range(int(T)) :\n",
        "  A = input()\n",
        "  print(rotate(A,1))"
      ],
      "execution_count": 1,
      "outputs": [
        {
          "output_type": "stream",
          "text": [
            "3\n",
            "abcd\n",
            "NO\n",
            "aaaaaaaaaaaaaaaaaaaaaaaaaaaaaaaa\n",
            "YES\n",
            "cd\n",
            "YES\n"
          ],
          "name": "stdout"
        }
      ]
    }
  ]
}